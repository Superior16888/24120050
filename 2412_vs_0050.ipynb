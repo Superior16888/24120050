{
 "cells": [
  {
   "cell_type": "markdown",
   "metadata": {
    "id": "10rk6lL-HaH5"
   },
   "source": [
    "**0050、中華電信存股大對決 專家洩這檔躺著幫你賺**\n",
    "\n",
    "https://www.chinatimes.com/realtimenews/20210829000023-260410?chdtv\n",
    "\n",
    "我們來稍微檢驗一下："
   ]
  },
  {
   "cell_type": "code",
   "execution_count": 8,
   "metadata": {
    "id": "wtdgAE86Bg7-"
   },
   "outputs": [],
   "source": [
    "# !pip install yahoo-fin\n",
    "# !pip install matplotlib\n",
    "# !pip install pandas\n",
    "\n",
    "# !pip install widgetsnbextension \n",
    "# !pip install ipywidgets\n",
    "# !pip install voila\n",
    "# !jupyter nbextension enable --py widgetsnbextension --sys-prefix\n",
    "# !jupyter serverextension enable voila --sys-prefix\n",
    "\n",
    "# Colab 進行matplotlib繪圖時顯示繁體中文\n",
    "# 下載台北思源黑體並命名taipei_sans_tc_beta.ttf，移至指定路徑\n",
    "#!wget -O taipei_sans_tc_beta.ttf https://drive.google.com/uc?id=1eGAsTN1HBpJAkeVM57_C7ccp7hbgSz3_&export=download\n",
    "#!mv taipei_sans_tc_beta.ttf /usr/local/lib/python3.7/dist-packages/matplotlib//mpl-data/fonts/ttf\n",
    "\n",
    "#from matplotlib.font_manager import FontProperties\n",
    "#import matplotlib.pyplot as plt \n",
    "# 自定義字體變數\n",
    "#myfont = FontProperties(fname=r'/usr/local/lib/python3.7/dist-packages/matplotlib/mpl-data/fonts/ttf/taipei_sans_tc_beta.ttf')\n",
    "# !!!!後續在相關函式中增加fontproperties=myfont屬性即可!!!!"
   ]
  },
  {
   "cell_type": "code",
   "execution_count": 2,
   "metadata": {
    "id": "vs-nrWX_Clci"
   },
   "outputs": [],
   "source": [
    "from yahoo_fin.stock_info import *\n",
    "from yahoo_fin.news import *\n",
    "from yahoo_fin.options import *\n",
    "import pandas as pd"
   ]
  },
  {
   "cell_type": "code",
   "execution_count": 3,
   "metadata": {
    "colab": {
     "base_uri": "https://localhost:8080/"
    },
    "id": "h_lS2MLTBmTD",
    "outputId": "a63b6312-81b8-4410-d968-451a7b757181"
   },
   "outputs": [],
   "source": [
    "Tickers = ['2412.TW','0050.TW']\n",
    "#get_quote_table(Tickers[0])\n",
    "#get_quote_table(Tickers[0])"
   ]
  },
  {
   "cell_type": "code",
   "execution_count": 4,
   "metadata": {
    "id": "SLGinGa1CZRr"
   },
   "outputs": [],
   "source": [
    "today = pd.Timestamp.today()\n",
    "start_date = today-datetime.timedelta(days=365*5)\n",
    "CHT  = get_data(Tickers[0], start_date = start_date , end_date = today)\n",
    "TW50 = get_data(Tickers[1], start_date = start_date , end_date = today)"
   ]
  },
  {
   "cell_type": "code",
   "execution_count": 5,
   "metadata": {
    "colab": {
     "base_uri": "https://localhost:8080/",
     "height": 417
    },
    "id": "vuHBIIUtDGqZ",
    "outputId": "a2e1dd6a-d44c-4df1-876e-c755d7c31589"
   },
   "outputs": [],
   "source": [
    "#CHT"
   ]
  },
  {
   "cell_type": "code",
   "execution_count": 6,
   "metadata": {
    "colab": {
     "base_uri": "https://localhost:8080/",
     "height": 310
    },
    "id": "bRgI7b7UKooi",
    "outputId": "7c33d003-5ffe-4f64-bfa2-8348d5aef815"
   },
   "outputs": [
    {
     "name": "stderr",
     "output_type": "stream",
     "text": [
      "findfont: Font family ['sans-serif'] not found. Falling back to DejaVu Sans.\n",
      "findfont: Generic family 'sans-serif' not found because none of the following families were found: SimHei\n"
     ]
    },
    {
     "data": {
      "image/png": "[encoded data removed]",
      "text/plain": [
       "<Figure size 432x288 with 1 Axes>"
      ]
     },
     "metadata": {
      "needs_background": "light"
     },
     "output_type": "display_data"
    }
   ],
   "source": [
    "import matplotlib.pyplot as plt\n",
    "plt.rcParams['font.sans-serif'] = ['SimHei']\n",
    "plt.rcParams['axes.unicode_minus'] = False\n",
    "\n",
    "plt.plot(CHT['adjclose'],label='中華電信')\n",
    "plt.plot(TW50['adjclose'],label='0050')\n",
    "#plt.xlabel('過去 5 年',fontproperties=myfont)\n",
    "#plt.ylabel('還原權息後價格',fontproperties=myfont)\n",
    "#plt.title('中華電與0050過去五年還原權息後價格走勢',fontproperties=myfont)\n",
    "#plt.legend(prop=myfont)\n",
    "plt.rcParams[\"figure.figsize\"] = (8,6)\n",
    "plt.show()"
   ]
  },
  {
   "cell_type": "code",
   "execution_count": 7,
   "metadata": {
    "colab": {
     "base_uri": "https://localhost:8080/"
    },
    "id": "hMgdPxheK5g8",
    "outputId": "535e3915-b044-4635-9620-53ba8b66f3c2"
   },
   "outputs": [],
   "source": [
    "!pip freeze > requirements.txt"
   ]
  },
  {
   "cell_type": "code",
   "execution_count": null,
   "metadata": {
    "id": "EEmgZEkSE62Z"
   },
   "outputs": [],
   "source": []
  },
  {
   "cell_type": "code",
   "execution_count": null,
   "metadata": {
    "colab": {
     "base_uri": "https://localhost:8080/",
     "height": 87
    },
    "id": "ka6PT_0dRWU-",
    "outputId": "c874d888-a758-416b-f550-cee1a8aa5634"
   },
   "outputs": [],
   "source": []
  },
  {
   "cell_type": "code",
   "execution_count": null,
   "metadata": {
    "colab": {
     "base_uri": "https://localhost:8080/",
     "height": 203
    },
    "id": "VCVXXs84m1iU",
    "outputId": "393483ce-7466-40a7-821c-a7c2c1e7cbe6"
   },
   "outputs": [],
   "source": []
  },
  {
   "cell_type": "code",
   "execution_count": null,
   "metadata": {
    "id": "-web3qiK0JUV"
   },
   "outputs": [],
   "source": []
  },
  {
   "cell_type": "code",
   "execution_count": null,
   "metadata": {
    "id": "5gu7OO7_0Now"
   },
   "outputs": [],
   "source": []
  },
  {
   "cell_type": "code",
   "execution_count": null,
   "metadata": {
    "colab": {
     "base_uri": "https://localhost:8080/",
     "height": 50
    },
    "id": "v9AQcbM30Tlh",
    "outputId": "dae98600-31b2-4c61-df9a-51143fd28a79"
   },
   "outputs": [],
   "source": []
  },
  {
   "cell_type": "code",
   "execution_count": null,
   "metadata": {
    "colab": {
     "base_uri": "https://localhost:8080/"
    },
    "id": "DnRZh7MM0X32",
    "outputId": "45ceeb94-fe1e-44fd-f909-4302d1870914"
   },
   "outputs": [],
   "source": []
  },
  {
   "cell_type": "code",
   "execution_count": null,
   "metadata": {
    "id": "x_OQPljg9KWA"
   },
   "outputs": [],
   "source": []
  },
  {
   "cell_type": "code",
   "execution_count": null,
   "metadata": {
    "id": "99DbCm6Y09jc"
   },
   "outputs": [],
   "source": [
    "\n"
   ]
  },
  {
   "cell_type": "code",
   "execution_count": null,
   "metadata": {
    "id": "N5F_PED587Wy"
   },
   "outputs": [],
   "source": []
  }
 ],
 "metadata": {
  "colab": {
   "name": "2412 vs 0050 .ipynb",
   "provenance": []
  },
  "kernelspec": {
   "display_name": "Python 3 (ipykernel)",
   "language": "python",
   "name": "python3"
  },
  "language_info": {
   "codemirror_mode": {
    "name": "ipython",
    "version": 3
   },
   "file_extension": ".py",
   "mimetype": "text/x-python",
   "name": "python",
   "nbconvert_exporter": "python",
   "pygments_lexer": "ipython3",
   "version": "3.9.7"
  }
 },
 "nbformat": 4,
 "nbformat_minor": 1
}
